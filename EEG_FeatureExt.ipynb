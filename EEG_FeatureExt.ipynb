import pyeeg
from scipy import signal
import pandas as pd
import numpy as np
import matplotlib.pyplot as plt
import csv
from __future__ import division
import warnings
warnings.filterwarnings("ignore")
from pathlib import Path
# import brainfeatures
#import pyeeg
import pywt
import string
from statsmodels.graphics.tsaplots import plot_pacf
from statsmodels.tsa.arima_model import ARIMA
import nolds
import os

def CalcFirstOrderDifference(sign):
  D=[]
  X=sign.to_numpy()
  for i in range(1,len(X)):
    # print(i)
    # print(X[i])
    D.append(X[i]-X[i-1])
  # print(D)
  return D

def katz_fd(x):
  x = np.array(x)
  dists = np.abs(np.ediff1d(x))
  ll = dists.sum()
  ln = np.log10(np.divide(ll, dists.mean()))
  aux_d = x - x[0]
  d = np.max(np.abs(aux_d[1:]))
  return np.divide(ln, np.add(ln, np.log10(np.divide(d, ll))))
# fs =(1,2,3,4,5)
# F=CalcFirstOrderDifference(fs)

def katz_fd(x):
  x = np.array(x)
  dists = np.abs(np.ediff1d(x))
  ll = dists.sum()
  ln = np.log10(np.divide(ll, dists.mean()))
  aux_d = x - x[0]
  d = np.max(np.abs(aux_d[1:]))
  return np.divide(ln, np.add(ln, np.log10(np.divide(d, ll))))

def Hjorth(X,D):

  D.insert(0, X[0])  # pad the first difference
  D = np.array(D)

  n = len(X)

  M2 = float(sum(D ** 2)) / n
  TP = sum(np.array(X) ** 2)
  M4 = 0
  for i in range(1, len(D)):
    M4 += (D[i] - D[i - 1]) ** 2
    M4 = M4 / n

  return np.sqrt(M2 / TP), np.sqrt(float(M4) * TP / M2 / M2)

def ExtractFea(filtered_signal):
  df_calculated = list()
  if(len(filtered_signal >20)):
    # print(filtered_signal)
  #Feature Extraction
  #Power Spectrum
    ps = np.abs(np.fft.fft(filtered_signal))**2
    final_ps=np.max(ps)
    df_calculated.append(final_ps)
    # print(ps)
    # print(final_ps)
  #Power(Time Domain)
    F = np.fft.fft(filtered_signal)
    P = F * np.conjugate(F)
    power = sum(P)
    # print(power)
    # print((str(power)).strip('[]'))
    df_calculated.append((str(power)).strip('[]'))
  #Hurst Coefficients
    hurst = pyeeg.hurst(filtered_signal)
    # print(hurst)
    df_calculated.append(hurst)
    #PFD
    D=CalcFirstOrderDifference(filtered_signal)
    pfd=pyeeg.pfd(filtered_signal,D)
    df_calculated.append(pfd)
    # print(pfd)
    #Hjorth Mobility and complexity
    mobility, complexity=Hjorth(filtered_signal.values.tolist(),D)
    df_calculated.append((str(mobility)).strip('[]'))
    df_calculated.append((str(complexity)).strip('[]'))
    # print((str(mobility)).strip('[]'))
    # print((str(complexity)).strip('[]'))
    # print(pyeeg.LLE(filtered_signal))
    #DWT
    dwt =pywt.dwt(filtered_signal,'db4')
    df_calculated.append(np.std(dwt))
    df_calculated.append(np.var(dwt))
    df_calculated.append(np.mean(dwt))
    #DFA
    rwalk = np.cumsum(filtered_signal)
    dfa = nolds.dfa(rwalk)
    df_calculated.append(dfa)
    #Katz Fractal Dimension
    kfa = katz_fd(filtered_signal)
    df_calculated.append(kfa)
    return df_calculated
    
def FilterSig(eachSig):
  b,a=signal.iirfilter(2,0.5,rp=None,rs=None, btype='highpass',output='ba',ftype='butter')
  filtered_signal_temp = signal.filtfilt(b, a, eachSig, method="gust")
  filtered_signal = pd.DataFrame(filtered_signal_temp)
  # print(filtered_signal)
  start=1
  end=21
  tempList = list()

  for r in range (len(filtered_signal)):
    df_temp = filtered_signal.iloc[start:end]
    if(len(df_temp)>=20):
      # print(df_temp)
      
      tempList.append(str(ExtractFea(df_temp)).strip('[]'))
      # print(tempList)
    start+=5
    end+=5
  return tempList
  
def Hjorth(X,D):

  D.insert(0, X[0])  # pad the first difference
  D = np.array(D)

  n = len(X)

  M2 = float(sum(D ** 2)) / n
  TP = sum(np.array(X) ** 2)
  M4 = 0
  for i in range(1, len(D)):
    M4 += (D[i] - D[i - 1]) ** 2
    M4 = M4 / n

  return np.sqrt(M2 / TP), np.sqrt(float(M4) * TP / M2 / M2)
  
def ExtractFea(filtered_signal):
  df_calculated = list()
  if(len(filtered_signal >20)):
    # print(filtered_signal)
  #Feature Extraction
  #Power Spectrum
    ps = np.abs(np.fft.fft(filtered_signal))**2
    final_ps=np.max(ps)
    df_calculated.append(final_ps)
    # print(ps)
    # print(final_ps)
  #Power(Time Domain)
    F = np.fft.fft(filtered_signal)
    P = F * np.conjugate(F)
    power = sum(P)
    # print(power)
    # print((str(power)).strip('[]'))
    df_calculated.append((str(power)).strip('[]'))
  #Hurst Coefficients
    hurst = pyeeg.hurst(filtered_signal)
    # print(hurst)
    df_calculated.append(hurst)
    #PFD
    D=CalcFirstOrderDifference(filtered_signal)
    pfd=pyeeg.pfd(filtered_signal,D)
    df_calculated.append(pfd)
    # print(pfd)
    #Hjorth Mobility and complexity
    mobility, complexity=Hjorth(filtered_signal.values.tolist(),D)
    df_calculated.append((str(mobility)).strip('[]'))
    df_calculated.append((str(complexity)).strip('[]'))
    # print((str(mobility)).strip('[]'))
    # print((str(complexity)).strip('[]'))
    # print(pyeeg.LLE(filtered_signal))
    #DWT
    dwt =pywt.dwt(filtered_signal,'db4')
    df_calculated.append(np.std(dwt))
    df_calculated.append(np.var(dwt))
    df_calculated.append(np.mean(dwt))
    #DFA
    rwalk = np.cumsum(filtered_signal)
    dfa = nolds.dfa(rwalk)
    df_calculated.append(dfa)
    #Katz Fractal Dimension
    kfa = katz_fd(filtered_signal)
    df_calculated.append(kfa)
    return df_calculated
    
  #Filtering
def FilterSig(eachSig):
  b,a=signal.iirfilter(2,0.5,rp=None,rs=None, btype='highpass',output='ba',ftype='butter')
  filtered_signal_temp = signal.filtfilt(b, a, eachSig, method="gust")
  filtered_signal = pd.DataFrame(filtered_signal_temp)
  # print(filtered_signal)
  start=1
  end=21
  tempList = list()

  for r in range (len(filtered_signal)):
    df_temp = filtered_signal.iloc[start:end]
    if(len(df_temp)>=20):
      # print(df_temp)
      
      tempList.append(str(ExtractFea(df_temp)).strip('[]'))
      # print(tempList)
    start+=5
    end+=5
  return tempList
  
entries='/content/A4'
names=["1", "2", "3", "4","5", "6", "7", "8","9", "10", "11", "12", "13",
                                       "14", "15", "16", "17","18", "19", "20", "21","22", "23", "24", "25", "26",
                                        "27", "28", "29", "30","31", "32", "33", "34","35", "36", "37", "38", "39",
                                        "40", "41", "42", "43","44", "45", "46", "47","48", "49", "50", "51", "52",
                                        "53","54","55","56","57","58","59","60","61","62","63","64","65","66","67",
                                        "68","69","70","71","72","73","74","75","76","77","78","79","80","81","82",
                                        "83","84","85"]
for filename in os.listdir(entries):
  print(filename)
  sig_temp=pd.read_csv('/content/A4/'+filename,skiprows=1,names=names,engine='python')
#Removing the columns of CQ and timestamp. 
  sig=sig_temp.drop(columns=['1',"72","73","74","75","76","77","78","79","80","81","82",
                                        "83","84","85"])

# sig_temp=pd.read_csv('/content/eeg_test.csv',skiprows=1)
  col ="Col"
  ColF="ColF"
  dicti=dict()
# print('Number of columns'+sig.columns)
  for i in sig.columns:
  # FeatureExtCol=ColF+str(i)
    #print('passing' +i+ 'time')
    FeatureExtCol =  FilterSig(sig[i])
    dicti[col+ str(i)] = FeatureExtCol
  df2 = pd.DataFrame(dicti) 
  df2.to_csv('/content/'+'Act4'+filename+'.csv',index=False,header= False,sep = ',', quoting = csv.QUOTE_NONE, escapechar = ' ')
